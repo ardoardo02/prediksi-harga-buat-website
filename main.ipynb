{
  "nbformat": 4,
  "nbformat_minor": 0,
  "metadata": {
    "colab": {
      "name": "Tubes_AI.ipynb",
      "provenance": []
    },
    "kernelspec": {
      "name": "python3",
      "display_name": "Python 3"
    },
    "language_info": {
      "name": "python"
    }
  },
  "cells": [
    {
      "cell_type": "markdown",
      "source": [
        "#INPUT"
      ],
      "metadata": {
        "id": "mUXvRxDYRiPI"
      }
    },
    {
      "cell_type": "code",
      "source": [
        "# INPUT\n",
        "kompleksitas = float(input('Masukkan nilai kompleksitas (1-10) = '))\n",
        "hosting = float(input('Masukkan nilai hosting (0,5-2) = '))\n",
        "jumlah = float(input('Masukkan jumlah halaman (1-20) = '))"
      ],
      "metadata": {
        "colab": {
          "base_uri": "https://localhost:8080/"
        },
        "id": "0Tv2tYRd_EVU",
        "outputId": "07afa58f-b452-46ab-edc5-1f6de34a7852"
      },
      "execution_count": null,
      "outputs": [
        {
          "name": "stdout",
          "output_type": "stream",
          "text": [
            "Masukkan nilai kompleksitas (1-10) = 3.2\n",
            "Masukkan nilai hosting (0,5-2) = 0.91\n",
            "Masukkan jumlah halaman (1-20) = 4\n"
          ]
        }
      ]
    },
    {
      "cell_type": "markdown",
      "source": [
        "#FUZZIFIKASI"
      ],
      "metadata": {
        "id": "ZmddtV28RmS1"
      }
    },
    {
      "cell_type": "code",
      "source": [
        "# FUZZIFIKASI\n",
        "# -- Kompleksitas --\n",
        "if kompleksitas <= 3:\n",
        "    val_KM = 1\n",
        "    val_KAR = 0\n",
        "    val_KR = 0\n",
        "if kompleksitas >3 and kompleksitas <4:\n",
        "    val_KM = (4-kompleksitas)/(4-3)\n",
        "    val_KAR = (kompleksitas-3)/(4-3)\n",
        "    val_KR = 0\n",
        "if kompleksitas >=4 and kompleksitas <=7:\n",
        "    val_KM = 0\n",
        "    val_KAR = 1\n",
        "    val_KR = 0\n",
        "if kompleksitas >7 and kompleksitas <8:\n",
        "    val_KM = 0\n",
        "    val_KAR = (8-kompleksitas)/(8-7)\n",
        "    val_KR = (kompleksitas-7)/(8-7)\n",
        "if kompleksitas >= 8:\n",
        "    val_KM = 0\n",
        "    val_KAR = 0\n",
        "    val_KR = 1\n",
        "    \n",
        "print('Derajat keanggotaan kompleksitas')\n",
        "print('KM, KAR, KR = (', val_KM, val_KAR, val_KR, ')')\n",
        "\n",
        "# -- Besar Hosting --\n",
        "if hosting <= 0.9:\n",
        "    val_HK = 1\n",
        "    val_HS = 0\n",
        "    val_HB = 0\n",
        "if hosting >0.9 and hosting <1:\n",
        "    val_HK = (1-hosting)/(1-0.9)\n",
        "    val_HS = (hosting-0.9)/(1-0.9)\n",
        "    val_HB = 0\n",
        "if hosting >=1 and hosting <=1.4:\n",
        "    val_HK = 0\n",
        "    val_HS = 1\n",
        "    val_HB = 0\n",
        "if hosting >1.4 and hosting <1.5:\n",
        "    val_HK = 0\n",
        "    val_HS = (1.5-hosting)/(1.5-1.4)\n",
        "    val_HB = (hosting-1.4)/(1.5-1.4)\n",
        "if hosting >= 1.5:\n",
        "    val_HK = 0\n",
        "    val_HS = 0\n",
        "    val_HB = 1\n",
        "    \n",
        "print('')\n",
        "print('Derajat keanggotan hosting')\n",
        "print('HK, HS, HB = (', val_HK, val_HS, val_HB, ')')\n",
        "\n",
        "# -- Jumlah Halaman --\n",
        "if jumlah <= 4:\n",
        "    val_JST = 1\n",
        "    val_JSG = 0\n",
        "    val_JB = 0\n",
        "if jumlah >4 and jumlah <5:\n",
        "    val_JST = (5-jumlah)/(5-4)\n",
        "    val_JSG = (jumlah-4)/(5-4)\n",
        "    val_JB = 0\n",
        "if jumlah >=5 and jumlah <=12:\n",
        "    val_JST = 0\n",
        "    val_JSG = 1\n",
        "    val_JB = 0\n",
        "if jumlah >12 and jumlah <13:\n",
        "    val_JST = 0\n",
        "    val_JSG = (13-jumlah)/(13-12)\n",
        "    val_JB = (jumlah-12)/(13-12)\n",
        "if jumlah >= 13:\n",
        "    val_JST = 0\n",
        "    val_JSG = 0\n",
        "    val_JB = 1\n",
        "    \n",
        "print('')\n",
        "print('Derajat keanggotan jumlah')\n",
        "print('JST, JSG, JB = (', val_JST, val_JSG, val_JB, ')')"
      ],
      "metadata": {
        "colab": {
          "base_uri": "https://localhost:8080/"
        },
        "id": "WyoZGj6DDTYt",
        "outputId": "8fef1ba3-7668-4c37-b7f8-4155d5d71c88"
      },
      "execution_count": null,
      "outputs": [
        {
          "output_type": "stream",
          "name": "stdout",
          "text": [
            "Derajat keanggotaan kompleksitas\n",
            "KM, KAR, KR = ( 0.7999999999999998 0.20000000000000018 0 )\n",
            "\n",
            "Derajat keanggotan hosting\n",
            "HK, HS, HB = ( 0.8999999999999999 0.10000000000000012 0 )\n",
            "\n",
            "Derajat keanggotan jumlah\n",
            "JST, JSG, JB = ( 1 0 0 )\n"
          ]
        }
      ]
    },
    {
      "cell_type": "markdown",
      "source": [
        "#INFERENCE"
      ],
      "metadata": {
        "id": "FfL-IwjsRp-G"
      }
    },
    {
      "cell_type": "code",
      "source": [
        "# INFERENCE\n",
        "arr_murah = []\n",
        "arr_sedang = []\n",
        "arr_mahal = []\n",
        "\n",
        "def murah(kompleks, host, jumlah):\n",
        "  if kompleks != 0 and host != 0 and jumlah != 0:\n",
        "    arr_murah.append(min(kompleks, host, jumlah))\n",
        "\n",
        "def sedang(kompleks, host, jumlah):\n",
        "  if kompleks != 0 and host != 0 and jumlah != 0:\n",
        "    arr_sedang.append(min(kompleks, host, jumlah))\n",
        "\n",
        "def mahal(kompleks, host, jumlah):\n",
        "  if kompleks != 0 and host != 0 and jumlah != 0:\n",
        "    arr_mahal.append(min(kompleks, host, jumlah))"
      ],
      "metadata": {
        "id": "vHhSjOcADZom"
      },
      "execution_count": null,
      "outputs": []
    },
    {
      "cell_type": "code",
      "source": [
        "murah(val_KM, val_HK, val_JST) #R-1\n",
        "murah(val_KM, val_HS, val_JST) #R-4\n",
        "murah(val_KAR, val_HK, val_JST) #R-10\n",
        "murah(val_KAR, val_HS, val_JST) #R-13\n",
        "\n",
        "sedang(val_KM, val_HK, val_JSG) #R-2\n",
        "sedang(val_KM, val_HK, val_JB) #R-3\n",
        "sedang(val_KM, val_HS, val_JSG) #R-5\n",
        "sedang(val_KM, val_HS, val_JB) #R-6\n",
        "sedang(val_KM, val_HB, val_JST) #R-7\n",
        "sedang(val_KM, val_HB, val_JSG) #R-8\n",
        "sedang(val_KAR, val_HK, val_JSG) #R-11\n",
        "sedang(val_KAR, val_HK, val_JB) #R-12\n",
        "sedang(val_KAR, val_HS, val_JSG) #R-14\n",
        "sedang(val_KAR, val_HB, val_JST) #R-16\n",
        "sedang(val_KR, val_HK, val_JST) #R-19\n",
        "sedang(val_KR, val_HK, val_JSG) #R-20\n",
        "sedang(val_KR, val_HS, val_JST) #R-22\n",
        "sedang(val_KR, val_HB, val_JST) #R-25\n",
        "\n",
        "mahal(val_KM, val_HB, val_JB) #R-9\n",
        "mahal(val_KAR, val_HS, val_JB) #R-15\n",
        "mahal(val_KAR, val_HB, val_JSG) #R-17\n",
        "mahal(val_KAR, val_HB, val_JB) #R-18\n",
        "mahal(val_KR, val_HK, val_JB) #R-21\n",
        "mahal(val_KR, val_HS, val_JSG) #R-23\n",
        "mahal(val_KR, val_HS, val_JB) #R-24\n",
        "mahal(val_KR, val_HB, val_JSG) #R-26\n",
        "mahal(val_KR, val_HB, val_JB) #R-27"
      ],
      "metadata": {
        "id": "TgNUdM99Ddqt"
      },
      "execution_count": null,
      "outputs": []
    },
    {
      "cell_type": "code",
      "execution_count": null,
      "metadata": {
        "colab": {
          "base_uri": "https://localhost:8080/"
        },
        "id": "FgQHwhwD58X4",
        "outputId": "2f4895d4-8afa-45b0-dc94-58a8bf70d3f0"
      },
      "outputs": [
        {
          "output_type": "stream",
          "name": "stdout",
          "text": [
            "Min murah =  [0.7999999999999998, 0.10000000000000012, 0.20000000000000018, 0.10000000000000012]\n",
            "Min sedang =  []\n",
            "Min mahal =  []\n",
            "\n",
            "Komposisi aturan menggunakan fungsi max\n",
            "Nilai max (murah) =  0.7999999999999998\n"
          ]
        }
      ],
      "source": [
        "print('Min murah = ', arr_murah)\n",
        "print('Min sedang = ', arr_sedang)\n",
        "print('Min mahal = ', arr_mahal)\n",
        "\n",
        "print('')\n",
        "print('Komposisi aturan menggunakan fungsi max')\n",
        "if arr_murah:\n",
        "  max_murah = max (arr_murah)\n",
        "  print('Nilai max (murah) = ', max_murah)\n",
        "\n",
        "if arr_sedang:\n",
        "  max_sedang = max (arr_sedang)\n",
        "  print('Nilai max (sedang) = ', max_sedang)\n",
        "\n",
        "if arr_mahal:\n",
        "  max_mahal = max (arr_mahal)\n",
        "  print('Nilai max (mahal) = ', max_mahal)"
      ]
    },
    {
      "cell_type": "markdown",
      "source": [
        "#DEFUZZFIKASI"
      ],
      "metadata": {
        "id": "-5cEjp0RRs3n"
      }
    },
    {
      "cell_type": "code",
      "source": [
        "# DEFUZZIFIKASI\n",
        "if arr_murah and bool(arr_sedang) == False and bool(arr_mahal) == False: # murah\n",
        "  val_z = ((6 * max_murah) / (6 * max_murah))\n",
        "\n",
        "elif arr_sedang and bool(arr_murah) == False and bool(arr_mahal) == False: # sedang\n",
        "  val_z = ((20.7 * max_sedang) / (9 * max_sedang))\n",
        "\n",
        "elif arr_mahal and bool(arr_sedang) == False and bool(arr_murah) == False: # mahal\n",
        "  val_z = ((40 * max_mahal) / (10 * max_mahal))\n",
        "\n",
        "elif arr_murah and arr_sedang and bool(arr_mahal) == False: # murah dan sedang\n",
        "  val_z = (6 * max_murah + 20.7 * max_sedang)/(6 * max_murah + 9 * max_sedang)\n",
        "\n",
        "elif arr_mahal and arr_sedang and bool(arr_murah) == False: # sedang dan mahal\n",
        "  val_z = (20.7 * max_sedang + 40 * max_mahal)/(9 * max_sedang + 10 * max_mahal)\n",
        "\n",
        "else: # murah dan mahal (gamungkin ada sepertinya?)\n",
        "  val_z = (6 * max_murah + 40 * max_mahal)/(6 * max_murah + 10 * max_mahal)\n",
        "\n",
        "print('Nilai z* = ', val_z)\n",
        "print('Harga jasa pembuatan website = Rp', int(val_z * 1000000))"
      ],
      "metadata": {
        "colab": {
          "base_uri": "https://localhost:8080/"
        },
        "id": "L_3ZS-vGRcs6",
        "outputId": "f97e9c06-43e3-463d-bb01-a3dd2558c8fa"
      },
      "execution_count": null,
      "outputs": [
        {
          "output_type": "stream",
          "name": "stdout",
          "text": [
            "Nilai z* =  1.0\n",
            "Harga jasa pembuatan website = Rp 1000000\n"
          ]
        }
      ]
    }
  ]
}